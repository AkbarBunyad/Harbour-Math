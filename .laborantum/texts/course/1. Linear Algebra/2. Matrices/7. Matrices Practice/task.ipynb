{
    "cells": [
        {
            "cell_type": "markdown",
            "metadata": {},
            "source": [
                "# Algorithms with Matrices\n",
                "\n",
                "In this practice we are going to implement algorithms to work with matrices:\n",
                "- solving simple equations\n",
                "- inverting matrices\n",
                "- decomposing matrices to LU decompositions\n",
                "\n",
                "For these activities Gauss Elimination is our main tool. We will only work with matrices that do not require swapping the rows.\n",
                "\n",
                "We will also perform QR decomposition using Gramm-Schmidt orthonormalization method"
            ]
        },
        {
            "cell_type": "code",
            "execution_count": 1,
            "metadata": {},
            "outputs": [],
            "source": [
                "import numpy as np\n",
                "import lovely_numpy as ln\n",
                "import json_tricks \n",
                "import matplotlib.pyplot as plt"
            ]
        },
        {
            "cell_type": "code",
            "execution_count": 2,
            "metadata": {},
            "outputs": [],
            "source": [
                "np.random.seed(0)\n",
                "\n",
                "inputs = json_tricks.load('inputs/inputs.json')\n",
                "answer = {}"
            ]
        },
        {
            "cell_type": "markdown",
            "metadata": {},
            "source": [
                "# Task 1. Implement Gauss Elimination Stage I\n",
                "\n",
                "Your task here is to create an algorithm that will perfrom mutations of matrix $A$ that transform it to Upper-Triangular form $U$.\n",
                "\n",
                "$$\n",
                "\\begin{bmatrix}\n",
                "a_{11} & a_{12} & \\dots & a_{1N} \\\\\n",
                "a_{21} & a_{22} & \\dots & a_{2N} \\\\\n",
                "\\vdots & \\vdots & \\ddots & \\vdots \\\\\n",
                "a_{N1} & a_{N2} & \\dots & a_{NN}\n",
                "\\end{bmatrix}\n",
                "\n",
                "\\rightarrow\n",
                "\n",
                "\\begin{bmatrix}\n",
                "1 & a_{12}^* & \\dots & a_{1N}^* \\\\\n",
                "0 & 1 & \\dots & a_{2N}^* \\\\\n",
                "\\vdots & \\vdots & \\ddots & \\vdots \\\\\n",
                "0 & 0 & \\dots & 1\n",
                "\\end{bmatrix}\n",
                "$$\n",
                "\n",
                "Note that there should be unit diagonal after the 1 stage.\n",
                "\n",
                "The same mutations for rows as you do to the matrix $A$ should be done to the rows of matrix $B$. \n",
                "\n",
                "What can matrix $B$ be? It can be:\n",
                "- vector of right hand side $b$ (in that case we are solving the System of Linear Equations)\n",
                "- identity matrix (in that case we invert matrix)\n",
                "- actually, Stage I can be used as Stage II, and in that case right hand matrix can be some matrix from Stage I\n"
            ]
        },
        {
            "cell_type": "code",
            "execution_count": 3,
            "metadata": {},
            "outputs": [],
            "source": [
                "def gauss_elimination(A, B):\n",
                "    A = A.copy().astype(float)  \n",
                "    B = B.copy().astype(float)  \n",
                "    n = len(B)  \n",
                "\n",
                "    # Forward Elimination\n",
                "    for i in range(n):\n",
                "        pivot = A[i, i]\n",
                "        if abs(pivot) < 1e-8:  \n",
                "            raise ValueError(\"Matrix is singular or nearly singular.\")\n",
                "        A[i] = A[i] / pivot\n",
                "        B[i] = B[i] / pivot\n",
                "\n",
                "        # Eliminate elements below the pivot\n",
                "        for j in range(i + 1, n):\n",
                "            factor = A[j, i]\n",
                "            A[j] -= factor * A[i]\n",
                "            B[j] -= factor * B[i]\n",
                "\n",
                "    # Backward Substitution\n",
                "    for i in range(n - 1, -1, -1):\n",
                "        for j in range(i + 1, n):\n",
                "            B[i] -= A[i, j] * B[j]\n",
                "            A[i, j] = 0 \n",
                "\n",
                "    return A, B"
            ]
        },
        {
            "cell_type": "code",
            "execution_count": 4,
            "metadata": {},
            "outputs": [],
            "source": [
                "answer['gauss_elimination_1'] = [\n",
                "    gauss_elimination(A=input['A'], B=input['b']) for input in inputs\n",
                "]"
            ]
        },
        {
            "cell_type": "markdown",
            "metadata": {},
            "source": [
                "# Task 2: Solve System of Linear Equations (SLE)\n",
                "\n",
                "For the SLE given by matrix $A$ and right-hand vector $\\mathbf b$, implement a function that solves this SLE\n",
                "\n",
                "You will need to use twice Gauss Elimination Algorithm\n",
                "\n",
                "1. Apply it to matrix $A$ and to vector $\\mathbf b$ as matrix $B$ as Gauss Elimintaion I stage\n",
                "2. For Gauss Elimination II stage you can use the same algorithm by just applying it to reversed matrix \n",
                "\n",
                "    (by enumerating equations and variables in reversed order, we can rewrite the matrix $U$ in low-triangle form $L$). \n",
                "\n",
                "    Something has to be done to the right-hand side vector too\n",
                "3. Form the answer from output of Gauss Elimination Stage II"
            ]
        },
        {
            "cell_type": "code",
            "execution_count": 5,
            "metadata": {},
            "outputs": [],
            "source": [
                "def solve_equation(A, b):\n",
                "    res = None\n",
                "\n",
                "    def reverse_gauss_elimination(A, B):\n",
                "        n = len(B)\n",
                "        for i in range(n - 1, -1, -1):\n",
                "            pivot = A[i, i]\n",
                "            if abs(pivot) < 1e-8:\n",
                "                raise ValueError(\"Matrix is singular or nearly singular.\")\n",
                "            A[i] = A[i] / pivot\n",
                "            B[i] = B[i] / pivot\n",
                "\n",
                "            for j in range(i - 1, -1, -1):\n",
                "                factor = A[j, i]\n",
                "                A[j] -= factor * A[i]\n",
                "                B[j] -= factor * B[i]\n",
                "\n",
                "        return A, B\n",
                "\n",
                "    U, y = gauss_elimination(A, b)\n",
                "    L, x = reverse_gauss_elimination(U, y)\n",
                "\n",
                "    res = x\n",
                "    return res"
            ]
        },
        {
            "cell_type": "markdown",
            "metadata": {},
            "source": [
                "You can always check that your solution is correct by subtracting\n",
                "\n",
                "$A \\mathbf x - \\mathbf b$, which should give you $\\mathbf 0$\n",
                "\n",
                "By the way, matrix product, such as $A \\mathbf x$ in numpy is done using `A @ x` operation"
            ]
        },
        {
            "cell_type": "code",
            "execution_count": 6,
            "metadata": {},
            "outputs": [
                {
                    "name": "stdout",
                    "output_type": "stream",
                    "text": [
                        "[0. 0. 0. 0. 0. 0.]\n"
                    ]
                }
            ],
            "source": [
                "answer['solutions'] = [\n",
                "    solve_equation(**input) for input in inputs\n",
                "]\n",
                "\n",
                "# This should be close to zero\n",
                "print(inputs[0]['A'] @ answer['solutions'][0] - inputs[0]['b'])"
            ]
        },
        {
            "cell_type": "markdown",
            "metadata": {},
            "source": [
                "# Task 3: Find inverse of $A$\n",
                "\n",
                "Use the same approach as with solving SLE, but now instead of $\\mathbf b$ for right hand side, insert corresponding Identity matrix $I$ as input into Gaussian Elimination algorithm\n",
                "\n",
                "Identitiy matrix of size $N \\times N$ is built using `numpy.eye(N)` "
            ]
        },
        {
            "cell_type": "code",
            "execution_count": 7,
            "metadata": {},
            "outputs": [],
            "source": [
                "def find_inverse(A):\n",
                "    res = None\n",
                "    n = A.shape[0]\n",
                "    I = np.eye(n)\n",
                "    res = gauss_elimination(A, I)[1]\n",
                "    return res"
            ]
        },
        {
            "cell_type": "markdown",
            "metadata": {},
            "source": [
                "You can always check that the matrix that you have found is indeed inverse to $A$ as $A^{-1} A = I$"
            ]
        },
        {
            "cell_type": "code",
            "execution_count": 8,
            "metadata": {},
            "outputs": [
                {
                    "name": "stdout",
                    "output_type": "stream",
                    "text": [
                        "[[1. 0. 0. 0. 0. 0.]\n",
                        " [0. 1. 0. 0. 0. 0.]\n",
                        " [0. 0. 1. 0. 0. 0.]\n",
                        " [0. 0. 0. 1. 0. 0.]\n",
                        " [0. 0. 0. 0. 1. 0.]\n",
                        " [0. 0. 0. 0. 0. 1.]]\n"
                    ]
                }
            ],
            "source": [
                "answer['inverses'] = [\n",
                "    find_inverse(input['A']) for input in inputs\n",
                "]\n",
                "\n",
                "# This should be I\n",
                "print(answer['inverses'][0] @ inputs[0]['A'])"
            ]
        },
        {
            "cell_type": "markdown",
            "metadata": {},
            "source": [
                "# Task 4: LU decomposition\n",
                "\n",
                "You can find LU decomposition of the matrix $A$ using Gauss Elimination. Again, it is done using 2 stages of Gauss Elimination:\n",
                "\n",
                "1. $A \\mathbf x = I \\mathbf b \\rightarrow U \\mathbf x = L^* \\mathbf b$\n",
                "\n",
                "2. $I U \\mathbf x = L^* \\mathbf b \\rightarrow L U \\mathbf x = I \\mathbf b$"
            ]
        },
        {
            "cell_type": "code",
            "execution_count": 11,
            "metadata": {},
            "outputs": [],
            "source": [
                "def find_lu(A):\n",
                "    L, U = None, None\n",
                "    n = A.shape[0]\n",
                "    L = np.eye(n)\n",
                "    U = A.copy().astype(float)\n",
                "    for i in range(n):\n",
                "        for j in range(i + 1, n):\n",
                "            factor = U[j, i] / U[i, i]\n",
                "            L[j, i] = factor\n",
                "            U[j] -= factor * U[i]\n",
                "    return L, U"
            ]
        },
        {
            "cell_type": "markdown",
            "metadata": {},
            "source": [
                "You can always check that your LU decomposition works as\n",
                "\n",
                "$LU - A = O$ (a zero matrix)"
            ]
        },
        {
            "cell_type": "code",
            "execution_count": 12,
            "metadata": {},
            "outputs": [
                {
                    "name": "stdout",
                    "output_type": "stream",
                    "text": [
                        "[[0. 0. 0. 0. 0. 0.]\n",
                        " [0. 0. 0. 0. 0. 0.]\n",
                        " [0. 0. 0. 0. 0. 0.]\n",
                        " [0. 0. 0. 0. 0. 0.]\n",
                        " [0. 0. 0. 0. 0. 0.]\n",
                        " [0. 0. 0. 0. 0. 0.]]\n"
                    ]
                }
            ],
            "source": [
                "answer['LU'] = [\n",
                "    find_lu(input['A']) for input in inputs\n",
                "]\n",
                "\n",
                "# This should be close to zero\n",
                "print(answer['LU'][0][0] @ answer['LU'][0][1] - inputs[0]['A'])"
            ]
        },
        {
            "cell_type": "markdown",
            "metadata": {},
            "source": [
                "# QR decomposition\n",
                "\n",
                "Now again we will consider matrix $A^T$ in context of SLE:\n",
                "\n",
                "$A^T \\mathbf x = I \\mathbf b$\n",
                "\n",
                "Out of matrix $A$ we can make an orthonormal matrix $Q$ by orthonoramlizing the rows, this process will turn the $I$ matrix on the right to lower-triangular matrix $L^*$:\n",
                "\n",
                "$A^T \\mathbf x = I \\mathbf b \\rightarrow Q^T \\mathbf x = L^* \\mathbf b$\n",
                "\n",
                "After that we should invert matrix $L^*$ and we will get:\n",
                "\n",
                "$I Q^T \\mathbf x = L^* \\mathbf b \\rightarrow L Q^T \\mathbf x = \\mathbf b$\n",
                "\n",
                "If we transpose that matrix, we will get  QR decomposition of matrix $A$:\n",
                "\n",
                "$A = Q R,$\n",
                "\n",
                "where $R$ is upper-triangular matrix.\n",
                "\n",
                "The task is to:\n",
                "1. Implement Gramm-Schmidt orthonormalization procedure\n",
                "2. Combining Gramm-Schmidt algorithm and Gaussian Algorithm, implement QR decomposition"
            ]
        },
        {
            "cell_type": "markdown",
            "metadata": {},
            "source": [
                "# Task 5: Gramm-Schmidt Algorithm for Matrices\n",
                "\n",
                "Implement Gramm-Schmidt process for **rows** of matrix $A$ (and do the same transforms to matrix $B$)"
            ]
        },
        {
            "cell_type": "code",
            "execution_count": 13,
            "metadata": {},
            "outputs": [],
            "source": [
                "def gramm_schmidt(A, B):\n",
                "    A = A.copy().astype(float)\n",
                "    B = B.copy().astype(float)\n",
                "    n, m = A.shape\n",
                "    for i in range(m):\n",
                "        for j in range(i):\n",
                "            projection = np.dot(A[:, j], A[:, i]) / (np.dot(A[:, j], A[:, j]) + 1e-8) * A[:, j]\n",
                "            A[:, i] -= projection\n",
                "            B[:, i] -= np.dot(B[:, j], A[:, i]) / (np.dot(A[:, j], A[:, j]) + 1e-8)\n",
                "        \n",
                "        norm = np.sqrt(np.dot(A[:, i], A[:, i])) + 1e-8\n",
                "        A[:, i] /= norm\n",
                "        B[:, i] /= norm\n",
                "    return A, B"
            ]
        },
        {
            "cell_type": "code",
            "execution_count": 14,
            "metadata": {},
            "outputs": [
                {
                    "name": "stdout",
                    "output_type": "stream",
                    "text": [
                        "===== Should be close to 1s: =====\n",
                        "[0.02118162 1.33393065 1.0339681  0.99998231 1.08782755 1.52310575]\n",
                        "\n",
                        "===== Should be close to L: =====\n",
                        "[[ 7.43294146e-02  4.43966977e-04  1.31986257e-02 -4.93817292e-01\n",
                        "   5.92394859e-01 -1.47782795e+03]\n",
                        " [ 0.00000000e+00  6.05053871e-02  1.31986257e-02 -4.93817292e-01\n",
                        "   5.92394859e-01 -1.47782795e+03]\n",
                        " [ 0.00000000e+00  4.43966977e-04  1.17453168e-01 -4.93817292e-01\n",
                        "   5.92394859e-01 -1.47782795e+03]\n",
                        " [ 0.00000000e+00  4.43966977e-04  1.31986257e-02 -1.22213404e-01\n",
                        "   5.92394859e-01 -1.47782795e+03]\n",
                        " [ 0.00000000e+00  4.43966977e-04  1.31986257e-02 -4.93817292e-01\n",
                        "   1.01069905e+00 -1.47782795e+03]\n",
                        " [ 0.00000000e+00  4.43966977e-04  1.31986257e-02 -4.93817292e-01\n",
                        "   5.92394859e-01 -1.27789842e+03]]\n"
                    ]
                }
            ],
            "source": [
                "answer['gramm_schmidt'] = [\n",
                "    gramm_schmidt(input['A'], np.eye(input['A'].shape[0])) for input in inputs\n",
                "]\n",
                "\n",
                "print(\"===== Should be close to 1s: =====\")\n",
                "print((answer['gramm_schmidt'][0][0] ** 2).sum(axis=1))\n",
                "print()\n",
                "print(\"===== Should be close to L: =====\")\n",
                "print(answer['gramm_schmidt'][0][1])"
            ]
        },
        {
            "cell_type": "markdown",
            "metadata": {},
            "source": [
                "# Task 6: QR decomposition"
            ]
        },
        {
            "cell_type": "markdown",
            "metadata": {},
            "source": [
                "Implement QR decomposition algorithm. Note that we work on rows on matrix $A$ with our Gauss and Gramm-Schmidt algorithms, but QR decomposition is defined for column matrix "
            ]
        },
        {
            "cell_type": "code",
            "execution_count": 17,
            "metadata": {},
            "outputs": [],
            "source": [
                "def find_qr(A):\n",
                "    B = np.eye(A.T.shape[0])\n",
                "    Q = A.copy().astype(float)\n",
                "    R = np.zeros_like(A, dtype=float)\n",
                "    n, m = A.shape\n",
                "\n",
                "    for i in range(m):\n",
                "        for j in range(i):\n",
                "            R[j, i] = np.dot(Q[:, j], Q[:, i])\n",
                "            Q[:, i] -= R[j, i] * Q[:, j]\n",
                "        R[i, i] = np.sqrt(np.dot(Q[:, i], Q[:, i])) + 1e-8\n",
                "        Q[:, i] /= R[i, i]\n",
                "    return Q, R"
            ]
        },
        {
            "cell_type": "code",
            "execution_count": 18,
            "metadata": {},
            "outputs": [
                {
                    "name": "stdout",
                    "output_type": "stream",
                    "text": [
                        "===== Should be close to O: =====\n",
                        "[[ 0.00000000e+00  0.00000000e+00  7.67773981e-18  0.00000000e+00\n",
                        "   6.66133815e-16  0.00000000e+00]\n",
                        " [ 0.00000000e+00  0.00000000e+00  0.00000000e+00  0.00000000e+00\n",
                        "  -4.44089210e-16  0.00000000e+00]\n",
                        " [ 0.00000000e+00  0.00000000e+00  0.00000000e+00 -1.77635684e-15\n",
                        "   0.00000000e+00  0.00000000e+00]\n",
                        " [ 0.00000000e+00  0.00000000e+00 -1.42108547e-14 -1.42108547e-14\n",
                        "   7.10542736e-15 -7.10542736e-15]\n",
                        " [ 0.00000000e+00  0.00000000e+00 -1.42108547e-14 -3.55271368e-15\n",
                        "   0.00000000e+00  0.00000000e+00]\n",
                        " [ 0.00000000e+00  0.00000000e+00  0.00000000e+00  0.00000000e+00\n",
                        "   1.06581410e-14  0.00000000e+00]]\n"
                    ]
                }
            ],
            "source": [
                "answer['QR'] = [\n",
                "    find_qr(input['A']) for input in inputs\n",
                "]\n",
                "\n",
                "print(\"===== Should be close to O: =====\")\n",
                "print(answer['QR'][0][0] @ answer['QR'][0][1] - inputs[0]['A'])"
            ]
        },
        {
            "cell_type": "code",
            "execution_count": null,
            "metadata": {},
            "outputs": [],
            "source": [
                "json_tricks.dump(answer, '.answer.json')"
            ]
        }
    ],
    "metadata": {
        "kernelspec": {
            "display_name": "venv",
            "language": "python",
            "name": "python3"
        },
        "language_info": {
            "codemirror_mode": {
                "name": "ipython",
                "version": 3
            },
            "file_extension": ".py",
            "mimetype": "text/x-python",
            "name": "python",
            "nbconvert_exporter": "python",
            "pygments_lexer": "ipython3",
            "version": "3.11.4"
        }
    },
    "nbformat": 4,
    "nbformat_minor": 2
}
